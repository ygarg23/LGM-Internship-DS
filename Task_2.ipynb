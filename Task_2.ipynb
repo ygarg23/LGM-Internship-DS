{
 "cells": [
  {
   "cell_type": "markdown",
   "id": "d452e51c",
   "metadata": {},
   "source": [
    "## Yash Garg | LGM | Data Science \n",
    "Task-02\n",
    "Stock Market Prediction And Forecasting Using Stacked LSTM"
   ]
  },
  {
   "cell_type": "code",
   "execution_count": 7,
   "id": "b59deb32",
   "metadata": {},
   "outputs": [],
   "source": [
    "import numpy as np\n",
    "import matplotlib.pyplot as plt\n",
    "import pandas as pd\n",
    "from sklearn.preprocessing import MinMaxScaler\n",
    "scaler = MinMaxScaler(feature_range=(0, 1))"
   ]
  },
  {
   "cell_type": "code",
   "execution_count": 3,
   "id": "b9abe1db",
   "metadata": {},
   "outputs": [
    {
     "data": {
      "text/html": [
       "<div>\n",
       "<style scoped>\n",
       "    .dataframe tbody tr th:only-of-type {\n",
       "        vertical-align: middle;\n",
       "    }\n",
       "\n",
       "    .dataframe tbody tr th {\n",
       "        vertical-align: top;\n",
       "    }\n",
       "\n",
       "    .dataframe thead th {\n",
       "        text-align: right;\n",
       "    }\n",
       "</style>\n",
       "<table border=\"1\" class=\"dataframe\">\n",
       "  <thead>\n",
       "    <tr style=\"text-align: right;\">\n",
       "      <th></th>\n",
       "      <th>Date</th>\n",
       "      <th>Open</th>\n",
       "      <th>High</th>\n",
       "      <th>Low</th>\n",
       "      <th>Last</th>\n",
       "      <th>Close</th>\n",
       "      <th>Total Trade Quantity</th>\n",
       "      <th>Turnover (Lacs)</th>\n",
       "    </tr>\n",
       "  </thead>\n",
       "  <tbody>\n",
       "    <tr>\n",
       "      <th>0</th>\n",
       "      <td>2018-09-28</td>\n",
       "      <td>234.05</td>\n",
       "      <td>235.95</td>\n",
       "      <td>230.20</td>\n",
       "      <td>233.50</td>\n",
       "      <td>233.75</td>\n",
       "      <td>3069914</td>\n",
       "      <td>7162.35</td>\n",
       "    </tr>\n",
       "    <tr>\n",
       "      <th>1</th>\n",
       "      <td>2018-09-27</td>\n",
       "      <td>234.55</td>\n",
       "      <td>236.80</td>\n",
       "      <td>231.10</td>\n",
       "      <td>233.80</td>\n",
       "      <td>233.25</td>\n",
       "      <td>5082859</td>\n",
       "      <td>11859.95</td>\n",
       "    </tr>\n",
       "    <tr>\n",
       "      <th>2</th>\n",
       "      <td>2018-09-26</td>\n",
       "      <td>240.00</td>\n",
       "      <td>240.00</td>\n",
       "      <td>232.50</td>\n",
       "      <td>235.00</td>\n",
       "      <td>234.25</td>\n",
       "      <td>2240909</td>\n",
       "      <td>5248.60</td>\n",
       "    </tr>\n",
       "    <tr>\n",
       "      <th>3</th>\n",
       "      <td>2018-09-25</td>\n",
       "      <td>233.30</td>\n",
       "      <td>236.75</td>\n",
       "      <td>232.00</td>\n",
       "      <td>236.25</td>\n",
       "      <td>236.10</td>\n",
       "      <td>2349368</td>\n",
       "      <td>5503.90</td>\n",
       "    </tr>\n",
       "    <tr>\n",
       "      <th>4</th>\n",
       "      <td>2018-09-24</td>\n",
       "      <td>233.55</td>\n",
       "      <td>239.20</td>\n",
       "      <td>230.75</td>\n",
       "      <td>234.00</td>\n",
       "      <td>233.30</td>\n",
       "      <td>3423509</td>\n",
       "      <td>7999.55</td>\n",
       "    </tr>\n",
       "  </tbody>\n",
       "</table>\n",
       "</div>"
      ],
      "text/plain": [
       "         Date    Open    High     Low    Last   Close  Total Trade Quantity  \\\n",
       "0  2018-09-28  234.05  235.95  230.20  233.50  233.75               3069914   \n",
       "1  2018-09-27  234.55  236.80  231.10  233.80  233.25               5082859   \n",
       "2  2018-09-26  240.00  240.00  232.50  235.00  234.25               2240909   \n",
       "3  2018-09-25  233.30  236.75  232.00  236.25  236.10               2349368   \n",
       "4  2018-09-24  233.55  239.20  230.75  234.00  233.30               3423509   \n",
       "\n",
       "   Turnover (Lacs)  \n",
       "0          7162.35  \n",
       "1         11859.95  \n",
       "2          5248.60  \n",
       "3          5503.90  \n",
       "4          7999.55  "
      ]
     },
     "execution_count": 3,
     "metadata": {},
     "output_type": "execute_result"
    }
   ],
   "source": [
    "#read the file \n",
    "url = \"https://raw.githubusercontent.com/mwitiderrick/stockprice/master/NSE-TATAGLOBAL.csv\"\n",
    "db_stock = pd.read_csv(url)\n",
    "db_stock.head()"
   ]
  },
  {
   "cell_type": "code",
   "execution_count": 4,
   "id": "a9acaa5b",
   "metadata": {},
   "outputs": [
    {
     "name": "stdout",
     "output_type": "stream",
     "text": [
      "Date                    0\n",
      "Open                    0\n",
      "High                    0\n",
      "Low                     0\n",
      "Last                    0\n",
      "Close                   0\n",
      "Total Trade Quantity    0\n",
      "Turnover (Lacs)         0\n",
      "dtype: int64\n"
     ]
    }
   ],
   "source": [
    "#Data Preprocessing\n",
    "print(db_stock.isnull().sum())"
   ]
  },
  {
   "cell_type": "code",
   "execution_count": 9,
   "id": "4319d0f4",
   "metadata": {},
   "outputs": [
    {
     "data": {
      "text/plain": [
       "[<matplotlib.lines.Line2D at 0x27b34b16850>]"
      ]
     },
     "execution_count": 9,
     "metadata": {},
     "output_type": "execute_result"
    },
    {
     "data": {
      "image/png": "[encoded data removed]",
      "text/plain": [
       "<Figure size 432x288 with 1 Axes>"
      ]
     },
     "metadata": {
      "needs_background": "light"
     },
     "output_type": "display_data"
    }
   ],
   "source": [
    "db_stock1 = db_stock.reset_index()['Close']\n",
    "plt.plot(db_stock1)"
   ]
  },
  {
   "cell_type": "code",
   "execution_count": 16,
   "id": "edd0a503",
   "metadata": {},
   "outputs": [
    {
     "data": {
      "text/plain": [
       "array([[0.62418301],\n",
       "       [0.62214052],\n",
       "       [0.62622549],\n",
       "       ...,\n",
       "       [0.1621732 ],\n",
       "       [0.16319444],\n",
       "       [0.16584967]])"
      ]
     },
     "execution_count": 16,
     "metadata": {},
     "output_type": "execute_result"
    }
   ],
   "source": [
    "db_stock1 = scaler.fit_transform(np.array(db_stock1).reshape(-1,1))\n",
    "db_stock1"
   ]
  },
  {
   "cell_type": "code",
   "execution_count": 18,
   "id": "8db40513",
   "metadata": {},
   "outputs": [],
   "source": [
    "#splitting the Dataset\n",
    "train_size = int(len(db_stock1)*0.75)\n",
    "test_size = len(db_stock1) - train_size\n",
    "train_data, test_data = db_stock1[0:train_size,:],db_stock1[train_size:len(db_stock1),:1]"
   ]
  },
  {
   "cell_type": "code",
   "execution_count": 21,
   "id": "73e482ca",
   "metadata": {},
   "outputs": [],
   "source": [
    "#Preprocess the data\n",
    "def create_dataset(dataset, time_step=1):\n",
    "  x, y = [],[]\n",
    "  for i in range(len(dataset)-time_step-1):\n",
    "    a=dataset[i:(i+time_step),0]\n",
    "    x.append(a)\n",
    "    y.append(dataset[i+time_step,0])\n",
    "  return np.array(x),np.array(y)\n",
    "\n",
    "\n",
    "time_step = 100\n",
    "x_train, y_train = create_dataset(train_data, time_step)\n",
    "x_test, y_test = create_dataset(test_data, time_step)\n",
    "\n",
    "#reshaping input for LSTM\n",
    "x_train = x_train.reshape(x_train.shape[0], x_train.shape[1], 1)\n",
    "x_test = x_test.reshape(x_test.shape[0], x_test.shape[1], 1)\n"
   ]
  },
  {
   "cell_type": "code",
   "execution_count": 23,
   "id": "3bce86a4",
   "metadata": {},
   "outputs": [],
   "source": [
    "import tensorflow as tf"
   ]
  },
  {
   "cell_type": "code",
   "execution_count": 25,
   "id": "5f6e884d",
   "metadata": {},
   "outputs": [],
   "source": [
    "#create the stacked LSTM model\n",
    "model = Sequential()\n",
    "#adding layers\n",
    "model.add(LSTM(50,return_sequences=True,input_shape=(100,1)))\n",
    "model.add(LSTM(50,return_sequences=True))\n",
    "model.add(LSTM(50))\n",
    "model.add(Dense(1))\n",
    "model.compile(loss='mean_squared_error',optimizer='adam')"
   ]
  },
  {
   "cell_type": "code",
   "execution_count": 26,
   "id": "c5b4cbf4",
   "metadata": {},
   "outputs": [
    {
     "name": "stdout",
     "output_type": "stream",
     "text": [
      "Epoch 1/100\n",
      "23/23 [==============================] - 11s 240ms/step - loss: 0.0409 - val_loss: 0.0088\n",
      "Epoch 2/100\n",
      "23/23 [==============================] - 3s 137ms/step - loss: 0.0043 - val_loss: 8.8741e-04\n",
      "Epoch 3/100\n",
      "23/23 [==============================] - 4s 156ms/step - loss: 0.0018 - val_loss: 0.0012\n",
      "Epoch 4/100\n",
      "23/23 [==============================] - 3s 132ms/step - loss: 0.0014 - val_loss: 0.0012\n",
      "Epoch 5/100\n",
      "23/23 [==============================] - 3s 141ms/step - loss: 0.0017 - val_loss: 0.0015\n",
      "Epoch 6/100\n",
      "23/23 [==============================] - 4s 182ms/step - loss: 0.0014 - val_loss: 0.0014\n",
      "Epoch 7/100\n",
      "23/23 [==============================] - 3s 143ms/step - loss: 0.0013 - val_loss: 0.0012\n",
      "Epoch 8/100\n",
      "23/23 [==============================] - 3s 135ms/step - loss: 0.0013 - val_loss: 9.6954e-04\n",
      "Epoch 9/100\n",
      "23/23 [==============================] - 3s 144ms/step - loss: 0.0011 - val_loss: 9.8095e-04\n",
      "Epoch 10/100\n",
      "23/23 [==============================] - 3s 149ms/step - loss: 0.0011 - val_loss: 0.0011\n",
      "Epoch 11/100\n",
      "23/23 [==============================] - 3s 141ms/step - loss: 0.0011 - val_loss: 0.0013\n",
      "Epoch 12/100\n",
      "23/23 [==============================] - 4s 155ms/step - loss: 0.0010 - val_loss: 9.2947e-04\n",
      "Epoch 13/100\n",
      "23/23 [==============================] - 3s 145ms/step - loss: 0.0010 - val_loss: 8.4028e-04\n",
      "Epoch 14/100\n",
      "23/23 [==============================] - 3s 134ms/step - loss: 9.0455e-04 - val_loss: 7.6127e-04\n",
      "Epoch 15/100\n",
      "23/23 [==============================] - 3s 134ms/step - loss: 9.0823e-04 - val_loss: 7.2906e-04\n",
      "Epoch 16/100\n",
      "23/23 [==============================] - 3s 140ms/step - loss: 9.3835e-04 - val_loss: 8.2211e-04\n",
      "Epoch 17/100\n",
      "23/23 [==============================] - 3s 136ms/step - loss: 8.6590e-04 - val_loss: 8.0364e-04\n",
      "Epoch 18/100\n",
      "23/23 [==============================] - 3s 150ms/step - loss: 8.2151e-04 - val_loss: 7.3405e-04\n",
      "Epoch 19/100\n",
      "23/23 [==============================] - 4s 162ms/step - loss: 8.4051e-04 - val_loss: 0.0011\n",
      "Epoch 20/100\n",
      "23/23 [==============================] - 4s 154ms/step - loss: 7.8297e-04 - val_loss: 9.0316e-04\n",
      "Epoch 21/100\n",
      "23/23 [==============================] - 4s 172ms/step - loss: 6.7580e-04 - val_loss: 8.1820e-04\n",
      "Epoch 22/100\n",
      "23/23 [==============================] - 3s 145ms/step - loss: 8.0933e-04 - val_loss: 7.7113e-04\n",
      "Epoch 23/100\n",
      "23/23 [==============================] - 3s 142ms/step - loss: 7.8823e-04 - val_loss: 7.6464e-04\n",
      "Epoch 24/100\n",
      "23/23 [==============================] - 4s 191ms/step - loss: 7.0369e-04 - val_loss: 8.4300e-04\n",
      "Epoch 25/100\n",
      "23/23 [==============================] - 3s 145ms/step - loss: 6.9869e-04 - val_loss: 0.0011\n",
      "Epoch 26/100\n",
      "23/23 [==============================] - 3s 139ms/step - loss: 7.1476e-04 - val_loss: 0.0011\n",
      "Epoch 27/100\n",
      "23/23 [==============================] - 3s 141ms/step - loss: 6.3684e-04 - val_loss: 9.3864e-04\n",
      "Epoch 28/100\n",
      "23/23 [==============================] - 4s 176ms/step - loss: 7.2426e-04 - val_loss: 7.7354e-04\n",
      "Epoch 29/100\n",
      "23/23 [==============================] - 3s 138ms/step - loss: 6.2485e-04 - val_loss: 7.9554e-04\n",
      "Epoch 30/100\n",
      "23/23 [==============================] - 3s 136ms/step - loss: 6.0586e-04 - val_loss: 0.0010\n",
      "Epoch 31/100\n",
      "23/23 [==============================] - 3s 138ms/step - loss: 6.5986e-04 - val_loss: 8.9750e-04\n",
      "Epoch 32/100\n",
      "23/23 [==============================] - 3s 146ms/step - loss: 6.2265e-04 - val_loss: 6.5026e-04\n",
      "Epoch 33/100\n",
      "23/23 [==============================] - 3s 137ms/step - loss: 5.7483e-04 - val_loss: 6.8386e-04\n",
      "Epoch 34/100\n",
      "23/23 [==============================] - 3s 139ms/step - loss: 5.3241e-04 - val_loss: 6.5864e-04\n",
      "Epoch 35/100\n",
      "23/23 [==============================] - 3s 135ms/step - loss: 6.2191e-04 - val_loss: 6.1098e-04\n",
      "Epoch 36/100\n",
      "23/23 [==============================] - 4s 168ms/step - loss: 5.3313e-04 - val_loss: 6.1272e-04\n",
      "Epoch 37/100\n",
      "23/23 [==============================] - 3s 152ms/step - loss: 6.4278e-04 - val_loss: 8.8477e-04\n",
      "Epoch 38/100\n",
      "23/23 [==============================] - 3s 149ms/step - loss: 7.1381e-04 - val_loss: 9.4871e-04\n",
      "Epoch 39/100\n",
      "23/23 [==============================] - 3s 137ms/step - loss: 5.9385e-04 - val_loss: 8.3560e-04\n",
      "Epoch 40/100\n",
      "23/23 [==============================] - 3s 146ms/step - loss: 5.2129e-04 - val_loss: 0.0010\n",
      "Epoch 41/100\n",
      "23/23 [==============================] - 3s 152ms/step - loss: 7.0929e-04 - val_loss: 7.6083e-04\n",
      "Epoch 42/100\n",
      "23/23 [==============================] - 3s 137ms/step - loss: 4.7819e-04 - val_loss: 4.6312e-04\n",
      "Epoch 43/100\n",
      "23/23 [==============================] - 4s 171ms/step - loss: 6.6752e-04 - val_loss: 6.0575e-04\n",
      "Epoch 44/100\n",
      "23/23 [==============================] - 4s 170ms/step - loss: 4.7145e-04 - val_loss: 6.2718e-04\n",
      "Epoch 45/100\n",
      "23/23 [==============================] - 4s 183ms/step - loss: 4.6138e-04 - val_loss: 8.2429e-04\n",
      "Epoch 46/100\n",
      "23/23 [==============================] - 4s 169ms/step - loss: 6.0175e-04 - val_loss: 6.2529e-04\n",
      "Epoch 47/100\n",
      "23/23 [==============================] - 4s 167ms/step - loss: 4.9760e-04 - val_loss: 6.8463e-04\n",
      "Epoch 48/100\n",
      "23/23 [==============================] - 3s 148ms/step - loss: 4.6751e-04 - val_loss: 6.5332e-04\n",
      "Epoch 49/100\n",
      "23/23 [==============================] - 3s 148ms/step - loss: 4.1440e-04 - val_loss: 5.1070e-04\n",
      "Epoch 50/100\n",
      "23/23 [==============================] - 4s 167ms/step - loss: 4.0992e-04 - val_loss: 4.8821e-04\n",
      "Epoch 51/100\n",
      "23/23 [==============================] - 4s 157ms/step - loss: 4.0591e-04 - val_loss: 4.6016e-04\n",
      "Epoch 52/100\n",
      "23/23 [==============================] - 4s 175ms/step - loss: 4.3376e-04 - val_loss: 4.3272e-04\n",
      "Epoch 53/100\n",
      "23/23 [==============================] - 4s 168ms/step - loss: 3.9345e-04 - val_loss: 3.6465e-04\n",
      "Epoch 54/100\n",
      "23/23 [==============================] - 4s 164ms/step - loss: 4.1012e-04 - val_loss: 3.8779e-04\n",
      "Epoch 55/100\n",
      "23/23 [==============================] - 4s 162ms/step - loss: 3.7634e-04 - val_loss: 4.3977e-04\n",
      "Epoch 56/100\n",
      "23/23 [==============================] - 4s 162ms/step - loss: 3.5867e-04 - val_loss: 5.9601e-04\n",
      "Epoch 57/100\n",
      "23/23 [==============================] - 3s 137ms/step - loss: 4.6089e-04 - val_loss: 3.6860e-04\n",
      "Epoch 58/100\n",
      "23/23 [==============================] - 3s 129ms/step - loss: 4.8128e-04 - val_loss: 3.8977e-04\n",
      "Epoch 59/100\n",
      "23/23 [==============================] - 3s 153ms/step - loss: 3.6537e-04 - val_loss: 4.8523e-04\n",
      "Epoch 60/100\n",
      "23/23 [==============================] - 4s 183ms/step - loss: 3.5922e-04 - val_loss: 4.6436e-04\n",
      "Epoch 61/100\n",
      "23/23 [==============================] - 4s 170ms/step - loss: 3.3602e-04 - val_loss: 4.7279e-04\n",
      "Epoch 62/100\n",
      "23/23 [==============================] - 4s 178ms/step - loss: 3.4710e-04 - val_loss: 4.6689e-04\n",
      "Epoch 63/100\n",
      "23/23 [==============================] - 4s 176ms/step - loss: 3.5052e-04 - val_loss: 4.1151e-04\n",
      "Epoch 64/100\n",
      "23/23 [==============================] - 3s 148ms/step - loss: 3.1463e-04 - val_loss: 4.1501e-04\n",
      "Epoch 65/100\n",
      "23/23 [==============================] - 5s 219ms/step - loss: 3.6724e-04 - val_loss: 3.4068e-04\n",
      "Epoch 66/100\n",
      "23/23 [==============================] - 4s 161ms/step - loss: 3.3951e-04 - val_loss: 4.5919e-04\n",
      "Epoch 67/100\n",
      "23/23 [==============================] - 5s 196ms/step - loss: 3.6775e-04 - val_loss: 3.0898e-04\n",
      "Epoch 68/100\n",
      "23/23 [==============================] - 4s 183ms/step - loss: 3.2861e-04 - val_loss: 5.6841e-04\n",
      "Epoch 69/100\n",
      "23/23 [==============================] - 4s 188ms/step - loss: 4.3812e-04 - val_loss: 3.1889e-04\n",
      "Epoch 70/100\n",
      "23/23 [==============================] - 4s 170ms/step - loss: 3.0691e-04 - val_loss: 3.3165e-04\n",
      "Epoch 71/100\n",
      "23/23 [==============================] - 3s 151ms/step - loss: 3.2376e-04 - val_loss: 3.6462e-04\n",
      "Epoch 72/100\n",
      "23/23 [==============================] - 3s 134ms/step - loss: 3.1345e-04 - val_loss: 2.9186e-04\n",
      "Epoch 73/100\n",
      "23/23 [==============================] - 3s 139ms/step - loss: 2.9233e-04 - val_loss: 2.7214e-04\n",
      "Epoch 74/100\n",
      "23/23 [==============================] - 3s 134ms/step - loss: 3.0522e-04 - val_loss: 3.3608e-04\n",
      "Epoch 75/100\n",
      "23/23 [==============================] - 3s 150ms/step - loss: 2.5951e-04 - val_loss: 3.0259e-04\n",
      "Epoch 76/100\n"
     ]
    },
    {
     "name": "stdout",
     "output_type": "stream",
     "text": [
      "23/23 [==============================] - 4s 169ms/step - loss: 3.0752e-04 - val_loss: 2.2976e-04\n",
      "Epoch 77/100\n",
      "23/23 [==============================] - 3s 145ms/step - loss: 3.4645e-04 - val_loss: 3.5273e-04\n",
      "Epoch 78/100\n",
      "23/23 [==============================] - 3s 150ms/step - loss: 2.8837e-04 - val_loss: 2.5918e-04\n",
      "Epoch 79/100\n",
      "23/23 [==============================] - 4s 182ms/step - loss: 3.2850e-04 - val_loss: 3.6175e-04\n",
      "Epoch 80/100\n",
      "23/23 [==============================] - 3s 140ms/step - loss: 2.9377e-04 - val_loss: 2.2357e-04\n",
      "Epoch 81/100\n",
      "23/23 [==============================] - 4s 189ms/step - loss: 2.7818e-04 - val_loss: 3.0194e-04\n",
      "Epoch 82/100\n",
      "23/23 [==============================] - 3s 146ms/step - loss: 2.6916e-04 - val_loss: 2.9996e-04\n",
      "Epoch 83/100\n",
      "23/23 [==============================] - 4s 179ms/step - loss: 2.8486e-04 - val_loss: 2.6389e-04\n",
      "Epoch 84/100\n",
      "23/23 [==============================] - 4s 172ms/step - loss: 2.4807e-04 - val_loss: 3.0366e-04\n",
      "Epoch 85/100\n",
      "23/23 [==============================] - 4s 194ms/step - loss: 2.8012e-04 - val_loss: 3.9703e-04\n",
      "Epoch 86/100\n",
      "23/23 [==============================] - 4s 165ms/step - loss: 3.8208e-04 - val_loss: 2.2649e-04\n",
      "Epoch 87/100\n",
      "23/23 [==============================] - 4s 155ms/step - loss: 2.7010e-04 - val_loss: 2.6627e-04\n",
      "Epoch 88/100\n",
      "23/23 [==============================] - 3s 151ms/step - loss: 2.4974e-04 - val_loss: 2.0458e-04\n",
      "Epoch 89/100\n",
      "23/23 [==============================] - 3s 152ms/step - loss: 2.6398e-04 - val_loss: 2.3933e-04\n",
      "Epoch 90/100\n",
      "23/23 [==============================] - 3s 143ms/step - loss: 2.2992e-04 - val_loss: 2.4955e-04\n",
      "Epoch 91/100\n",
      "23/23 [==============================] - 3s 138ms/step - loss: 2.5268e-04 - val_loss: 4.1507e-04\n",
      "Epoch 92/100\n",
      "23/23 [==============================] - 3s 149ms/step - loss: 2.1721e-04 - val_loss: 2.2973e-04\n",
      "Epoch 93/100\n",
      "23/23 [==============================] - 3s 130ms/step - loss: 2.9838e-04 - val_loss: 2.5482e-04\n",
      "Epoch 94/100\n",
      "23/23 [==============================] - 3s 148ms/step - loss: 2.7002e-04 - val_loss: 3.9729e-04\n",
      "Epoch 95/100\n",
      "23/23 [==============================] - 5s 222ms/step - loss: 2.8377e-04 - val_loss: 2.4355e-04\n",
      "Epoch 96/100\n",
      "23/23 [==============================] - 4s 191ms/step - loss: 2.3461e-04 - val_loss: 3.9891e-04\n",
      "Epoch 97/100\n",
      "23/23 [==============================] - 3s 139ms/step - loss: 3.0929e-04 - val_loss: 2.6318e-04\n",
      "Epoch 98/100\n",
      "23/23 [==============================] - 4s 154ms/step - loss: 2.3885e-04 - val_loss: 2.0749e-04\n",
      "Epoch 99/100\n",
      "23/23 [==============================] - 4s 155ms/step - loss: 2.8664e-04 - val_loss: 1.9058e-04\n",
      "Epoch 100/100\n",
      "23/23 [==============================] - 4s 153ms/step - loss: 2.3587e-04 - val_loss: 2.3622e-04\n"
     ]
    },
    {
     "data": {
      "text/plain": [
       "<tensorflow.python.keras.callbacks.History at 0x27b4cd4f400>"
      ]
     },
     "execution_count": 26,
     "metadata": {},
     "output_type": "execute_result"
    }
   ],
   "source": [
    "model.fit(x_train,y_train,validation_data=(x_test,y_test),epochs=100,batch_size=64,verbose=1)\n"
   ]
  },
  {
   "cell_type": "code",
   "execution_count": 29,
   "id": "9c827c41",
   "metadata": {},
   "outputs": [
    {
     "data": {
      "text/plain": [
       "163.64187425564384"
      ]
     },
     "execution_count": 29,
     "metadata": {},
     "output_type": "execute_result"
    }
   ],
   "source": [
    "train_predict = model.predict(x_train)\n",
    "train_predict = scaler.inverse_transform(train_predict)\n",
    "\n",
    "test_predict = model.predict(x_test)\n",
    "test_predict = scaler.inverse_transform(test_predict)\n",
    "\n",
    "#calculate RSME (Root Mean Square Error)\n",
    "import math\n",
    "from sklearn.metrics import mean_squared_error\n",
    "math.sqrt(mean_squared_error(y_train,train_predict))\n"
   ]
  },
  {
   "cell_type": "code",
   "execution_count": 30,
   "id": "bf9e5d22",
   "metadata": {},
   "outputs": [
    {
     "data": {
      "text/plain": [
       "106.28194097168141"
      ]
     },
     "execution_count": 30,
     "metadata": {},
     "output_type": "execute_result"
    }
   ],
   "source": [
    "math.sqrt(mean_squared_error(y_test,test_predict))"
   ]
  },
  {
   "cell_type": "code",
   "execution_count": 31,
   "id": "9d8b0cad",
   "metadata": {},
   "outputs": [],
   "source": [
    "look_back=100\n",
    "trainPredictionPlot = np.empty_like(db_stock1) #shifting training predictions\n",
    "trainPredictionPlot[:, :] = np.nan\n",
    "trainPredictionPlot[look_back:len(train_predict)+look_back, :] = train_predict\n",
    "testPredictionPlot = np.empty_like(db_stock1) #shifting test predictions\n",
    "testPredictionPlot[:, :] = np.nan\n",
    "testPredictionPlot[len(train_predict)+(look_back*2)+1:len(db_stock)-1, :] = test_predict"
   ]
  },
  {
   "cell_type": "code",
   "execution_count": 32,
   "id": "ca60268c",
   "metadata": {},
   "outputs": [
    {
     "data": {
      "image/png": "[encoded data removed]",
      "text/plain": [
       "<Figure size 432x288 with 1 Axes>"
      ]
     },
     "metadata": {
      "needs_background": "light"
     },
     "output_type": "display_data"
    }
   ],
   "source": [
    "plt.plot(scaler.inverse_transform(db_stock1))\n",
    "plt.plot(trainPredictionPlot)\n",
    "plt.plot(testPredictionPlot)\n",
    "plt.show()"
   ]
  },
  {
   "cell_type": "code",
   "execution_count": 41,
   "id": "dca441af",
   "metadata": {},
   "outputs": [
    {
     "data": {
      "text/plain": [
       "509"
      ]
     },
     "execution_count": 41,
     "metadata": {},
     "output_type": "execute_result"
    }
   ],
   "source": [
    "len(test_data)"
   ]
  },
  {
   "cell_type": "code",
   "execution_count": 47,
   "id": "5727b5bf",
   "metadata": {},
   "outputs": [
    {
     "data": {
      "text/plain": [
       "(1, 100)"
      ]
     },
     "execution_count": 47,
     "metadata": {},
     "output_type": "execute_result"
    }
   ],
   "source": [
    "x_input=test_data[409:].reshape(1,-1)\n",
    "x_input.shape"
   ]
  },
  {
   "cell_type": "code",
   "execution_count": 48,
   "id": "5ff5b0c7",
   "metadata": {},
   "outputs": [],
   "source": [
    "temp_input=list(x_input)\n",
    "temp_input=temp_input[0].tolist()"
   ]
  },
  {
   "cell_type": "code",
   "execution_count": 49,
   "id": "9c4a0993",
   "metadata": {},
   "outputs": [
    {
     "name": "stdout",
     "output_type": "stream",
     "text": [
      "[0.16710125]\n",
      "101\n",
      "2 day input [0.13848039 0.14011438 0.13888889 0.13541667 0.14011438 0.1380719\n",
      " 0.13071895 0.13071895 0.12867647 0.11846405 0.14644608 0.14808007\n",
      " 0.15910948 0.15992647 0.15788399 0.16441993 0.17892157 0.17933007\n",
      " 0.19260621 0.20812908 0.18974673 0.18055556 0.18239379 0.17708333\n",
      " 0.17810458 0.18055556 0.17810458 0.17851307 0.19607843 0.18913399\n",
      " 0.18954248 0.19403595 0.19444444 0.20200163 0.19771242 0.19934641\n",
      " 0.19873366 0.1997549  0.2128268  0.21568627 0.20445261 0.21772876\n",
      " 0.21098856 0.21425654 0.19750817 0.18811275 0.17851307 0.17381536\n",
      " 0.16033497 0.16564542 0.17116013 0.17422386 0.18035131 0.17401961\n",
      " 0.16278595 0.16973039 0.17810458 0.17034314 0.16830065 0.17279412\n",
      " 0.17544935 0.18382353 0.19138072 0.18913399 0.19097222 0.17238562\n",
      " 0.16830065 0.1693219  0.17177288 0.16156046 0.14971405 0.1503268\n",
      " 0.15196078 0.14726307 0.14501634 0.14603758 0.12479575 0.13112745\n",
      " 0.11397059 0.1190768  0.12377451 0.13562092 0.12908497 0.13459967\n",
      " 0.12806373 0.13031046 0.12724673 0.13521242 0.14522059 0.15257353\n",
      " 0.14848856 0.14338235 0.14562908 0.15236928 0.15400327 0.14971405\n",
      " 0.1621732  0.16319444 0.16584967 0.16710125]\n",
      "2 day output [[0.169514]]\n",
      "3 day input [0.14011438 0.13888889 0.13541667 0.14011438 0.1380719  0.13071895\n",
      " 0.13071895 0.12867647 0.11846405 0.14644608 0.14808007 0.15910948\n",
      " 0.15992647 0.15788399 0.16441993 0.17892157 0.17933007 0.19260621\n",
      " 0.20812908 0.18974673 0.18055556 0.18239379 0.17708333 0.17810458\n",
      " 0.18055556 0.17810458 0.17851307 0.19607843 0.18913399 0.18954248\n",
      " 0.19403595 0.19444444 0.20200163 0.19771242 0.19934641 0.19873366\n",
      " 0.1997549  0.2128268  0.21568627 0.20445261 0.21772876 0.21098856\n",
      " 0.21425654 0.19750817 0.18811275 0.17851307 0.17381536 0.16033497\n",
      " 0.16564542 0.17116013 0.17422386 0.18035131 0.17401961 0.16278595\n",
      " 0.16973039 0.17810458 0.17034314 0.16830065 0.17279412 0.17544935\n",
      " 0.18382353 0.19138072 0.18913399 0.19097222 0.17238562 0.16830065\n",
      " 0.1693219  0.17177288 0.16156046 0.14971405 0.1503268  0.15196078\n",
      " 0.14726307 0.14501634 0.14603758 0.12479575 0.13112745 0.11397059\n",
      " 0.1190768  0.12377451 0.13562092 0.12908497 0.13459967 0.12806373\n",
      " 0.13031046 0.12724673 0.13521242 0.14522059 0.15257353 0.14848856\n",
      " 0.14338235 0.14562908 0.15236928 0.15400327 0.14971405 0.1621732\n",
      " 0.16319444 0.16584967 0.16710125 0.169514  ]\n",
      "3 day output [[0.17123736]]\n",
      "4 day input [0.13888889 0.13541667 0.14011438 0.1380719  0.13071895 0.13071895\n",
      " 0.12867647 0.11846405 0.14644608 0.14808007 0.15910948 0.15992647\n",
      " 0.15788399 0.16441993 0.17892157 0.17933007 0.19260621 0.20812908\n",
      " 0.18974673 0.18055556 0.18239379 0.17708333 0.17810458 0.18055556\n",
      " 0.17810458 0.17851307 0.19607843 0.18913399 0.18954248 0.19403595\n",
      " 0.19444444 0.20200163 0.19771242 0.19934641 0.19873366 0.1997549\n",
      " 0.2128268  0.21568627 0.20445261 0.21772876 0.21098856 0.21425654\n",
      " 0.19750817 0.18811275 0.17851307 0.17381536 0.16033497 0.16564542\n",
      " 0.17116013 0.17422386 0.18035131 0.17401961 0.16278595 0.16973039\n",
      " 0.17810458 0.17034314 0.16830065 0.17279412 0.17544935 0.18382353\n",
      " 0.19138072 0.18913399 0.19097222 0.17238562 0.16830065 0.1693219\n",
      " 0.17177288 0.16156046 0.14971405 0.1503268  0.15196078 0.14726307\n",
      " 0.14501634 0.14603758 0.12479575 0.13112745 0.11397059 0.1190768\n",
      " 0.12377451 0.13562092 0.12908497 0.13459967 0.12806373 0.13031046\n",
      " 0.12724673 0.13521242 0.14522059 0.15257353 0.14848856 0.14338235\n",
      " 0.14562908 0.15236928 0.15400327 0.14971405 0.1621732  0.16319444\n",
      " 0.16584967 0.16710125 0.169514   0.17123736]\n",
      "4 day output [[0.17274036]]\n",
      "5 day input [0.13541667 0.14011438 0.1380719  0.13071895 0.13071895 0.12867647\n",
      " 0.11846405 0.14644608 0.14808007 0.15910948 0.15992647 0.15788399\n",
      " 0.16441993 0.17892157 0.17933007 0.19260621 0.20812908 0.18974673\n",
      " 0.18055556 0.18239379 0.17708333 0.17810458 0.18055556 0.17810458\n",
      " 0.17851307 0.19607843 0.18913399 0.18954248 0.19403595 0.19444444\n",
      " 0.20200163 0.19771242 0.19934641 0.19873366 0.1997549  0.2128268\n",
      " 0.21568627 0.20445261 0.21772876 0.21098856 0.21425654 0.19750817\n",
      " 0.18811275 0.17851307 0.17381536 0.16033497 0.16564542 0.17116013\n",
      " 0.17422386 0.18035131 0.17401961 0.16278595 0.16973039 0.17810458\n",
      " 0.17034314 0.16830065 0.17279412 0.17544935 0.18382353 0.19138072\n",
      " 0.18913399 0.19097222 0.17238562 0.16830065 0.1693219  0.17177288\n",
      " 0.16156046 0.14971405 0.1503268  0.15196078 0.14726307 0.14501634\n",
      " 0.14603758 0.12479575 0.13112745 0.11397059 0.1190768  0.12377451\n",
      " 0.13562092 0.12908497 0.13459967 0.12806373 0.13031046 0.12724673\n",
      " 0.13521242 0.14522059 0.15257353 0.14848856 0.14338235 0.14562908\n",
      " 0.15236928 0.15400327 0.14971405 0.1621732  0.16319444 0.16584967\n",
      " 0.16710125 0.169514   0.17123736 0.17274036]\n",
      "5 day output [[0.17421244]]\n",
      "6 day input [0.14011438 0.1380719  0.13071895 0.13071895 0.12867647 0.11846405\n",
      " 0.14644608 0.14808007 0.15910948 0.15992647 0.15788399 0.16441993\n",
      " 0.17892157 0.17933007 0.19260621 0.20812908 0.18974673 0.18055556\n",
      " 0.18239379 0.17708333 0.17810458 0.18055556 0.17810458 0.17851307\n",
      " 0.19607843 0.18913399 0.18954248 0.19403595 0.19444444 0.20200163\n",
      " 0.19771242 0.19934641 0.19873366 0.1997549  0.2128268  0.21568627\n",
      " 0.20445261 0.21772876 0.21098856 0.21425654 0.19750817 0.18811275\n",
      " 0.17851307 0.17381536 0.16033497 0.16564542 0.17116013 0.17422386\n",
      " 0.18035131 0.17401961 0.16278595 0.16973039 0.17810458 0.17034314\n",
      " 0.16830065 0.17279412 0.17544935 0.18382353 0.19138072 0.18913399\n",
      " 0.19097222 0.17238562 0.16830065 0.1693219  0.17177288 0.16156046\n",
      " 0.14971405 0.1503268  0.15196078 0.14726307 0.14501634 0.14603758\n",
      " 0.12479575 0.13112745 0.11397059 0.1190768  0.12377451 0.13562092\n",
      " 0.12908497 0.13459967 0.12806373 0.13031046 0.12724673 0.13521242\n",
      " 0.14522059 0.15257353 0.14848856 0.14338235 0.14562908 0.15236928\n",
      " 0.15400327 0.14971405 0.1621732  0.16319444 0.16584967 0.16710125\n",
      " 0.169514   0.17123736 0.17274036 0.17421244]\n",
      "6 day output [[0.17567886]]\n",
      "7 day input [0.1380719  0.13071895 0.13071895 0.12867647 0.11846405 0.14644608\n",
      " 0.14808007 0.15910948 0.15992647 0.15788399 0.16441993 0.17892157\n",
      " 0.17933007 0.19260621 0.20812908 0.18974673 0.18055556 0.18239379\n",
      " 0.17708333 0.17810458 0.18055556 0.17810458 0.17851307 0.19607843\n",
      " 0.18913399 0.18954248 0.19403595 0.19444444 0.20200163 0.19771242\n",
      " 0.19934641 0.19873366 0.1997549  0.2128268  0.21568627 0.20445261\n",
      " 0.21772876 0.21098856 0.21425654 0.19750817 0.18811275 0.17851307\n",
      " 0.17381536 0.16033497 0.16564542 0.17116013 0.17422386 0.18035131\n",
      " 0.17401961 0.16278595 0.16973039 0.17810458 0.17034314 0.16830065\n",
      " 0.17279412 0.17544935 0.18382353 0.19138072 0.18913399 0.19097222\n",
      " 0.17238562 0.16830065 0.1693219  0.17177288 0.16156046 0.14971405\n",
      " 0.1503268  0.15196078 0.14726307 0.14501634 0.14603758 0.12479575\n",
      " 0.13112745 0.11397059 0.1190768  0.12377451 0.13562092 0.12908497\n",
      " 0.13459967 0.12806373 0.13031046 0.12724673 0.13521242 0.14522059\n",
      " 0.15257353 0.14848856 0.14338235 0.14562908 0.15236928 0.15400327\n",
      " 0.14971405 0.1621732  0.16319444 0.16584967 0.16710125 0.169514\n",
      " 0.17123736 0.17274036 0.17421244 0.17567886]\n",
      "7 day output [[0.1771179]]\n",
      "8 day input [0.13071895 0.13071895 0.12867647 0.11846405 0.14644608 0.14808007\n",
      " 0.15910948 0.15992647 0.15788399 0.16441993 0.17892157 0.17933007\n",
      " 0.19260621 0.20812908 0.18974673 0.18055556 0.18239379 0.17708333\n",
      " 0.17810458 0.18055556 0.17810458 0.17851307 0.19607843 0.18913399\n",
      " 0.18954248 0.19403595 0.19444444 0.20200163 0.19771242 0.19934641\n",
      " 0.19873366 0.1997549  0.2128268  0.21568627 0.20445261 0.21772876\n",
      " 0.21098856 0.21425654 0.19750817 0.18811275 0.17851307 0.17381536\n",
      " 0.16033497 0.16564542 0.17116013 0.17422386 0.18035131 0.17401961\n",
      " 0.16278595 0.16973039 0.17810458 0.17034314 0.16830065 0.17279412\n",
      " 0.17544935 0.18382353 0.19138072 0.18913399 0.19097222 0.17238562\n",
      " 0.16830065 0.1693219  0.17177288 0.16156046 0.14971405 0.1503268\n",
      " 0.15196078 0.14726307 0.14501634 0.14603758 0.12479575 0.13112745\n",
      " 0.11397059 0.1190768  0.12377451 0.13562092 0.12908497 0.13459967\n",
      " 0.12806373 0.13031046 0.12724673 0.13521242 0.14522059 0.15257353\n",
      " 0.14848856 0.14338235 0.14562908 0.15236928 0.15400327 0.14971405\n",
      " 0.1621732  0.16319444 0.16584967 0.16710125 0.169514   0.17123736\n",
      " 0.17274036 0.17421244 0.17567886 0.1771179 ]\n",
      "8 day output [[0.17851226]]\n",
      "9 day input [0.13071895 0.12867647 0.11846405 0.14644608 0.14808007 0.15910948\n",
      " 0.15992647 0.15788399 0.16441993 0.17892157 0.17933007 0.19260621\n",
      " 0.20812908 0.18974673 0.18055556 0.18239379 0.17708333 0.17810458\n",
      " 0.18055556 0.17810458 0.17851307 0.19607843 0.18913399 0.18954248\n",
      " 0.19403595 0.19444444 0.20200163 0.19771242 0.19934641 0.19873366\n",
      " 0.1997549  0.2128268  0.21568627 0.20445261 0.21772876 0.21098856\n",
      " 0.21425654 0.19750817 0.18811275 0.17851307 0.17381536 0.16033497\n",
      " 0.16564542 0.17116013 0.17422386 0.18035131 0.17401961 0.16278595\n",
      " 0.16973039 0.17810458 0.17034314 0.16830065 0.17279412 0.17544935\n",
      " 0.18382353 0.19138072 0.18913399 0.19097222 0.17238562 0.16830065\n",
      " 0.1693219  0.17177288 0.16156046 0.14971405 0.1503268  0.15196078\n",
      " 0.14726307 0.14501634 0.14603758 0.12479575 0.13112745 0.11397059\n",
      " 0.1190768  0.12377451 0.13562092 0.12908497 0.13459967 0.12806373\n",
      " 0.13031046 0.12724673 0.13521242 0.14522059 0.15257353 0.14848856\n",
      " 0.14338235 0.14562908 0.15236928 0.15400327 0.14971405 0.1621732\n",
      " 0.16319444 0.16584967 0.16710125 0.169514   0.17123736 0.17274036\n",
      " 0.17421244 0.17567886 0.1771179  0.17851226]\n"
     ]
    },
    {
     "name": "stdout",
     "output_type": "stream",
     "text": [
      "9 day output [[0.1798577]]\n",
      "10 day input [0.12867647 0.11846405 0.14644608 0.14808007 0.15910948 0.15992647\n",
      " 0.15788399 0.16441993 0.17892157 0.17933007 0.19260621 0.20812908\n",
      " 0.18974673 0.18055556 0.18239379 0.17708333 0.17810458 0.18055556\n",
      " 0.17810458 0.17851307 0.19607843 0.18913399 0.18954248 0.19403595\n",
      " 0.19444444 0.20200163 0.19771242 0.19934641 0.19873366 0.1997549\n",
      " 0.2128268  0.21568627 0.20445261 0.21772876 0.21098856 0.21425654\n",
      " 0.19750817 0.18811275 0.17851307 0.17381536 0.16033497 0.16564542\n",
      " 0.17116013 0.17422386 0.18035131 0.17401961 0.16278595 0.16973039\n",
      " 0.17810458 0.17034314 0.16830065 0.17279412 0.17544935 0.18382353\n",
      " 0.19138072 0.18913399 0.19097222 0.17238562 0.16830065 0.1693219\n",
      " 0.17177288 0.16156046 0.14971405 0.1503268  0.15196078 0.14726307\n",
      " 0.14501634 0.14603758 0.12479575 0.13112745 0.11397059 0.1190768\n",
      " 0.12377451 0.13562092 0.12908497 0.13459967 0.12806373 0.13031046\n",
      " 0.12724673 0.13521242 0.14522059 0.15257353 0.14848856 0.14338235\n",
      " 0.14562908 0.15236928 0.15400327 0.14971405 0.1621732  0.16319444\n",
      " 0.16584967 0.16710125 0.169514   0.17123736 0.17274036 0.17421244\n",
      " 0.17567886 0.1771179  0.17851226 0.1798577 ]\n",
      "10 day output [[0.18115714]]\n",
      "11 day input [0.11846405 0.14644608 0.14808007 0.15910948 0.15992647 0.15788399\n",
      " 0.16441993 0.17892157 0.17933007 0.19260621 0.20812908 0.18974673\n",
      " 0.18055556 0.18239379 0.17708333 0.17810458 0.18055556 0.17810458\n",
      " 0.17851307 0.19607843 0.18913399 0.18954248 0.19403595 0.19444444\n",
      " 0.20200163 0.19771242 0.19934641 0.19873366 0.1997549  0.2128268\n",
      " 0.21568627 0.20445261 0.21772876 0.21098856 0.21425654 0.19750817\n",
      " 0.18811275 0.17851307 0.17381536 0.16033497 0.16564542 0.17116013\n",
      " 0.17422386 0.18035131 0.17401961 0.16278595 0.16973039 0.17810458\n",
      " 0.17034314 0.16830065 0.17279412 0.17544935 0.18382353 0.19138072\n",
      " 0.18913399 0.19097222 0.17238562 0.16830065 0.1693219  0.17177288\n",
      " 0.16156046 0.14971405 0.1503268  0.15196078 0.14726307 0.14501634\n",
      " 0.14603758 0.12479575 0.13112745 0.11397059 0.1190768  0.12377451\n",
      " 0.13562092 0.12908497 0.13459967 0.12806373 0.13031046 0.12724673\n",
      " 0.13521242 0.14522059 0.15257353 0.14848856 0.14338235 0.14562908\n",
      " 0.15236928 0.15400327 0.14971405 0.1621732  0.16319444 0.16584967\n",
      " 0.16710125 0.169514   0.17123736 0.17274036 0.17421244 0.17567886\n",
      " 0.1771179  0.17851226 0.1798577  0.18115714]\n",
      "11 day output [[0.18241501]]\n",
      "12 day input [0.14644608 0.14808007 0.15910948 0.15992647 0.15788399 0.16441993\n",
      " 0.17892157 0.17933007 0.19260621 0.20812908 0.18974673 0.18055556\n",
      " 0.18239379 0.17708333 0.17810458 0.18055556 0.17810458 0.17851307\n",
      " 0.19607843 0.18913399 0.18954248 0.19403595 0.19444444 0.20200163\n",
      " 0.19771242 0.19934641 0.19873366 0.1997549  0.2128268  0.21568627\n",
      " 0.20445261 0.21772876 0.21098856 0.21425654 0.19750817 0.18811275\n",
      " 0.17851307 0.17381536 0.16033497 0.16564542 0.17116013 0.17422386\n",
      " 0.18035131 0.17401961 0.16278595 0.16973039 0.17810458 0.17034314\n",
      " 0.16830065 0.17279412 0.17544935 0.18382353 0.19138072 0.18913399\n",
      " 0.19097222 0.17238562 0.16830065 0.1693219  0.17177288 0.16156046\n",
      " 0.14971405 0.1503268  0.15196078 0.14726307 0.14501634 0.14603758\n",
      " 0.12479575 0.13112745 0.11397059 0.1190768  0.12377451 0.13562092\n",
      " 0.12908497 0.13459967 0.12806373 0.13031046 0.12724673 0.13521242\n",
      " 0.14522059 0.15257353 0.14848856 0.14338235 0.14562908 0.15236928\n",
      " 0.15400327 0.14971405 0.1621732  0.16319444 0.16584967 0.16710125\n",
      " 0.169514   0.17123736 0.17274036 0.17421244 0.17567886 0.1771179\n",
      " 0.17851226 0.1798577  0.18115714 0.18241501]\n",
      "12 day output [[0.18363506]]\n",
      "13 day input [0.14808007 0.15910948 0.15992647 0.15788399 0.16441993 0.17892157\n",
      " 0.17933007 0.19260621 0.20812908 0.18974673 0.18055556 0.18239379\n",
      " 0.17708333 0.17810458 0.18055556 0.17810458 0.17851307 0.19607843\n",
      " 0.18913399 0.18954248 0.19403595 0.19444444 0.20200163 0.19771242\n",
      " 0.19934641 0.19873366 0.1997549  0.2128268  0.21568627 0.20445261\n",
      " 0.21772876 0.21098856 0.21425654 0.19750817 0.18811275 0.17851307\n",
      " 0.17381536 0.16033497 0.16564542 0.17116013 0.17422386 0.18035131\n",
      " 0.17401961 0.16278595 0.16973039 0.17810458 0.17034314 0.16830065\n",
      " 0.17279412 0.17544935 0.18382353 0.19138072 0.18913399 0.19097222\n",
      " 0.17238562 0.16830065 0.1693219  0.17177288 0.16156046 0.14971405\n",
      " 0.1503268  0.15196078 0.14726307 0.14501634 0.14603758 0.12479575\n",
      " 0.13112745 0.11397059 0.1190768  0.12377451 0.13562092 0.12908497\n",
      " 0.13459967 0.12806373 0.13031046 0.12724673 0.13521242 0.14522059\n",
      " 0.15257353 0.14848856 0.14338235 0.14562908 0.15236928 0.15400327\n",
      " 0.14971405 0.1621732  0.16319444 0.16584967 0.16710125 0.169514\n",
      " 0.17123736 0.17274036 0.17421244 0.17567886 0.1771179  0.17851226\n",
      " 0.1798577  0.18115714 0.18241501 0.18363506]\n",
      "13 day output [[0.18482019]]\n",
      "14 day input [0.15910948 0.15992647 0.15788399 0.16441993 0.17892157 0.17933007\n",
      " 0.19260621 0.20812908 0.18974673 0.18055556 0.18239379 0.17708333\n",
      " 0.17810458 0.18055556 0.17810458 0.17851307 0.19607843 0.18913399\n",
      " 0.18954248 0.19403595 0.19444444 0.20200163 0.19771242 0.19934641\n",
      " 0.19873366 0.1997549  0.2128268  0.21568627 0.20445261 0.21772876\n",
      " 0.21098856 0.21425654 0.19750817 0.18811275 0.17851307 0.17381536\n",
      " 0.16033497 0.16564542 0.17116013 0.17422386 0.18035131 0.17401961\n",
      " 0.16278595 0.16973039 0.17810458 0.17034314 0.16830065 0.17279412\n",
      " 0.17544935 0.18382353 0.19138072 0.18913399 0.19097222 0.17238562\n",
      " 0.16830065 0.1693219  0.17177288 0.16156046 0.14971405 0.1503268\n",
      " 0.15196078 0.14726307 0.14501634 0.14603758 0.12479575 0.13112745\n",
      " 0.11397059 0.1190768  0.12377451 0.13562092 0.12908497 0.13459967\n",
      " 0.12806373 0.13031046 0.12724673 0.13521242 0.14522059 0.15257353\n",
      " 0.14848856 0.14338235 0.14562908 0.15236928 0.15400327 0.14971405\n",
      " 0.1621732  0.16319444 0.16584967 0.16710125 0.169514   0.17123736\n",
      " 0.17274036 0.17421244 0.17567886 0.1771179  0.17851226 0.1798577\n",
      " 0.18115714 0.18241501 0.18363506 0.18482019]\n",
      "14 day output [[0.18597291]]\n",
      "15 day input [0.15992647 0.15788399 0.16441993 0.17892157 0.17933007 0.19260621\n",
      " 0.20812908 0.18974673 0.18055556 0.18239379 0.17708333 0.17810458\n",
      " 0.18055556 0.17810458 0.17851307 0.19607843 0.18913399 0.18954248\n",
      " 0.19403595 0.19444444 0.20200163 0.19771242 0.19934641 0.19873366\n",
      " 0.1997549  0.2128268  0.21568627 0.20445261 0.21772876 0.21098856\n",
      " 0.21425654 0.19750817 0.18811275 0.17851307 0.17381536 0.16033497\n",
      " 0.16564542 0.17116013 0.17422386 0.18035131 0.17401961 0.16278595\n",
      " 0.16973039 0.17810458 0.17034314 0.16830065 0.17279412 0.17544935\n",
      " 0.18382353 0.19138072 0.18913399 0.19097222 0.17238562 0.16830065\n",
      " 0.1693219  0.17177288 0.16156046 0.14971405 0.1503268  0.15196078\n",
      " 0.14726307 0.14501634 0.14603758 0.12479575 0.13112745 0.11397059\n",
      " 0.1190768  0.12377451 0.13562092 0.12908497 0.13459967 0.12806373\n",
      " 0.13031046 0.12724673 0.13521242 0.14522059 0.15257353 0.14848856\n",
      " 0.14338235 0.14562908 0.15236928 0.15400327 0.14971405 0.1621732\n",
      " 0.16319444 0.16584967 0.16710125 0.169514   0.17123736 0.17274036\n",
      " 0.17421244 0.17567886 0.1771179  0.17851226 0.1798577  0.18115714\n",
      " 0.18241501 0.18363506 0.18482019 0.18597291]\n",
      "15 day output [[0.18709539]]\n",
      "16 day input [0.15788399 0.16441993 0.17892157 0.17933007 0.19260621 0.20812908\n",
      " 0.18974673 0.18055556 0.18239379 0.17708333 0.17810458 0.18055556\n",
      " 0.17810458 0.17851307 0.19607843 0.18913399 0.18954248 0.19403595\n",
      " 0.19444444 0.20200163 0.19771242 0.19934641 0.19873366 0.1997549\n",
      " 0.2128268  0.21568627 0.20445261 0.21772876 0.21098856 0.21425654\n",
      " 0.19750817 0.18811275 0.17851307 0.17381536 0.16033497 0.16564542\n",
      " 0.17116013 0.17422386 0.18035131 0.17401961 0.16278595 0.16973039\n",
      " 0.17810458 0.17034314 0.16830065 0.17279412 0.17544935 0.18382353\n",
      " 0.19138072 0.18913399 0.19097222 0.17238562 0.16830065 0.1693219\n",
      " 0.17177288 0.16156046 0.14971405 0.1503268  0.15196078 0.14726307\n",
      " 0.14501634 0.14603758 0.12479575 0.13112745 0.11397059 0.1190768\n",
      " 0.12377451 0.13562092 0.12908497 0.13459967 0.12806373 0.13031046\n",
      " 0.12724673 0.13521242 0.14522059 0.15257353 0.14848856 0.14338235\n",
      " 0.14562908 0.15236928 0.15400327 0.14971405 0.1621732  0.16319444\n",
      " 0.16584967 0.16710125 0.169514   0.17123736 0.17274036 0.17421244\n",
      " 0.17567886 0.1771179  0.17851226 0.1798577  0.18115714 0.18241501\n",
      " 0.18363506 0.18482019 0.18597291 0.18709539]\n",
      "16 day output [[0.18818985]]\n",
      "17 day input [0.16441993 0.17892157 0.17933007 0.19260621 0.20812908 0.18974673\n",
      " 0.18055556 0.18239379 0.17708333 0.17810458 0.18055556 0.17810458\n",
      " 0.17851307 0.19607843 0.18913399 0.18954248 0.19403595 0.19444444\n",
      " 0.20200163 0.19771242 0.19934641 0.19873366 0.1997549  0.2128268\n",
      " 0.21568627 0.20445261 0.21772876 0.21098856 0.21425654 0.19750817\n",
      " 0.18811275 0.17851307 0.17381536 0.16033497 0.16564542 0.17116013\n",
      " 0.17422386 0.18035131 0.17401961 0.16278595 0.16973039 0.17810458\n",
      " 0.17034314 0.16830065 0.17279412 0.17544935 0.18382353 0.19138072\n",
      " 0.18913399 0.19097222 0.17238562 0.16830065 0.1693219  0.17177288\n",
      " 0.16156046 0.14971405 0.1503268  0.15196078 0.14726307 0.14501634\n",
      " 0.14603758 0.12479575 0.13112745 0.11397059 0.1190768  0.12377451\n",
      " 0.13562092 0.12908497 0.13459967 0.12806373 0.13031046 0.12724673\n",
      " 0.13521242 0.14522059 0.15257353 0.14848856 0.14338235 0.14562908\n",
      " 0.15236928 0.15400327 0.14971405 0.1621732  0.16319444 0.16584967\n",
      " 0.16710125 0.169514   0.17123736 0.17274036 0.17421244 0.17567886\n",
      " 0.1771179  0.17851226 0.1798577  0.18115714 0.18241501 0.18363506\n",
      " 0.18482019 0.18597291 0.18709539 0.18818985]\n",
      "17 day output [[0.18925828]]\n",
      "18 day input [0.17892157 0.17933007 0.19260621 0.20812908 0.18974673 0.18055556\n",
      " 0.18239379 0.17708333 0.17810458 0.18055556 0.17810458 0.17851307\n",
      " 0.19607843 0.18913399 0.18954248 0.19403595 0.19444444 0.20200163\n",
      " 0.19771242 0.19934641 0.19873366 0.1997549  0.2128268  0.21568627\n",
      " 0.20445261 0.21772876 0.21098856 0.21425654 0.19750817 0.18811275\n",
      " 0.17851307 0.17381536 0.16033497 0.16564542 0.17116013 0.17422386\n",
      " 0.18035131 0.17401961 0.16278595 0.16973039 0.17810458 0.17034314\n",
      " 0.16830065 0.17279412 0.17544935 0.18382353 0.19138072 0.18913399\n",
      " 0.19097222 0.17238562 0.16830065 0.1693219  0.17177288 0.16156046\n",
      " 0.14971405 0.1503268  0.15196078 0.14726307 0.14501634 0.14603758\n",
      " 0.12479575 0.13112745 0.11397059 0.1190768  0.12377451 0.13562092\n",
      " 0.12908497 0.13459967 0.12806373 0.13031046 0.12724673 0.13521242\n",
      " 0.14522059 0.15257353 0.14848856 0.14338235 0.14562908 0.15236928\n",
      " 0.15400327 0.14971405 0.1621732  0.16319444 0.16584967 0.16710125\n",
      " 0.169514   0.17123736 0.17274036 0.17421244 0.17567886 0.1771179\n",
      " 0.17851226 0.1798577  0.18115714 0.18241501 0.18363506 0.18482019\n",
      " 0.18597291 0.18709539 0.18818985 0.18925828]\n"
     ]
    },
    {
     "name": "stdout",
     "output_type": "stream",
     "text": [
      "18 day output [[0.19030261]]\n",
      "19 day input [0.17933007 0.19260621 0.20812908 0.18974673 0.18055556 0.18239379\n",
      " 0.17708333 0.17810458 0.18055556 0.17810458 0.17851307 0.19607843\n",
      " 0.18913399 0.18954248 0.19403595 0.19444444 0.20200163 0.19771242\n",
      " 0.19934641 0.19873366 0.1997549  0.2128268  0.21568627 0.20445261\n",
      " 0.21772876 0.21098856 0.21425654 0.19750817 0.18811275 0.17851307\n",
      " 0.17381536 0.16033497 0.16564542 0.17116013 0.17422386 0.18035131\n",
      " 0.17401961 0.16278595 0.16973039 0.17810458 0.17034314 0.16830065\n",
      " 0.17279412 0.17544935 0.18382353 0.19138072 0.18913399 0.19097222\n",
      " 0.17238562 0.16830065 0.1693219  0.17177288 0.16156046 0.14971405\n",
      " 0.1503268  0.15196078 0.14726307 0.14501634 0.14603758 0.12479575\n",
      " 0.13112745 0.11397059 0.1190768  0.12377451 0.13562092 0.12908497\n",
      " 0.13459967 0.12806373 0.13031046 0.12724673 0.13521242 0.14522059\n",
      " 0.15257353 0.14848856 0.14338235 0.14562908 0.15236928 0.15400327\n",
      " 0.14971405 0.1621732  0.16319444 0.16584967 0.16710125 0.169514\n",
      " 0.17123736 0.17274036 0.17421244 0.17567886 0.1771179  0.17851226\n",
      " 0.1798577  0.18115714 0.18241501 0.18363506 0.18482019 0.18597291\n",
      " 0.18709539 0.18818985 0.18925828 0.19030261]\n",
      "19 day output [[0.19132456]]\n",
      "20 day input [0.19260621 0.20812908 0.18974673 0.18055556 0.18239379 0.17708333\n",
      " 0.17810458 0.18055556 0.17810458 0.17851307 0.19607843 0.18913399\n",
      " 0.18954248 0.19403595 0.19444444 0.20200163 0.19771242 0.19934641\n",
      " 0.19873366 0.1997549  0.2128268  0.21568627 0.20445261 0.21772876\n",
      " 0.21098856 0.21425654 0.19750817 0.18811275 0.17851307 0.17381536\n",
      " 0.16033497 0.16564542 0.17116013 0.17422386 0.18035131 0.17401961\n",
      " 0.16278595 0.16973039 0.17810458 0.17034314 0.16830065 0.17279412\n",
      " 0.17544935 0.18382353 0.19138072 0.18913399 0.19097222 0.17238562\n",
      " 0.16830065 0.1693219  0.17177288 0.16156046 0.14971405 0.1503268\n",
      " 0.15196078 0.14726307 0.14501634 0.14603758 0.12479575 0.13112745\n",
      " 0.11397059 0.1190768  0.12377451 0.13562092 0.12908497 0.13459967\n",
      " 0.12806373 0.13031046 0.12724673 0.13521242 0.14522059 0.15257353\n",
      " 0.14848856 0.14338235 0.14562908 0.15236928 0.15400327 0.14971405\n",
      " 0.1621732  0.16319444 0.16584967 0.16710125 0.169514   0.17123736\n",
      " 0.17274036 0.17421244 0.17567886 0.1771179  0.17851226 0.1798577\n",
      " 0.18115714 0.18241501 0.18363506 0.18482019 0.18597291 0.18709539\n",
      " 0.18818985 0.18925828 0.19030261 0.19132456]\n",
      "20 day output [[0.19232564]]\n",
      "[[0.16710124909877777], [0.169514000415802], [0.17123736441135406], [0.17274035513401031], [0.17421244084835052], [0.17567886412143707], [0.17711789906024933], [0.17851226031780243], [0.17985770106315613], [0.18115714192390442], [0.18241500854492188], [0.18363505601882935], [0.18482019007205963], [0.1859729140996933], [0.18709538877010345], [0.18818984925746918], [0.18925827741622925], [0.19030261039733887], [0.19132456183433533], [0.1923256367444992]]\n"
     ]
    }
   ],
   "source": [
    "#Prediction for next 20 days\n",
    "from numpy import array\n",
    "\n",
    "final_output=[]\n",
    "n_steps=100\n",
    "i=1\n",
    "while(i<=20):\n",
    "    \n",
    "    if(len(temp_input)>100):\n",
    "        x_input=np.array(temp_input[1:])\n",
    "        print(\"{} day input {}\".format(i,x_input))\n",
    "        x_input=x_input.reshape(1,-1)\n",
    "        x_input = x_input.reshape((1, n_steps, 1))\n",
    "        ypred = model.predict(x_input, verbose=0)\n",
    "        print(\"{} day output {}\".format(i,ypred))\n",
    "        temp_input.extend(ypred[0].tolist())\n",
    "        temp_input=temp_input[1:]\n",
    "        final_output.extend(ypred.tolist())\n",
    "        i=i+1\n",
    "    else:\n",
    "        x_input = x_input.reshape((1, n_steps,1))\n",
    "        ypred = model.predict(x_input, verbose=0)\n",
    "        print(ypred[0])\n",
    "        temp_input.extend(ypred[0].tolist())\n",
    "        print(len(temp_input))\n",
    "        final_output.extend(ypred.tolist())\n",
    "        i=i+1\n",
    "    \n",
    "\n",
    "print(final_output)"
   ]
  },
  {
   "cell_type": "code",
   "execution_count": 51,
   "id": "f4c3353b",
   "metadata": {},
   "outputs": [],
   "source": [
    "day_new = np.arange(1,101)\n",
    "day_pred = np.arange(101,121)"
   ]
  },
  {
   "cell_type": "code",
   "execution_count": 54,
   "id": "e3ed9dda",
   "metadata": {},
   "outputs": [],
   "source": [
    "df3 = db_stock1.tolist()\n",
    "df3.extend(final_output)"
   ]
  },
  {
   "cell_type": "code",
   "execution_count": 55,
   "id": "e6879259",
   "metadata": {},
   "outputs": [
    {
     "data": {
      "text/plain": [
       "2035"
      ]
     },
     "execution_count": 55,
     "metadata": {},
     "output_type": "execute_result"
    }
   ],
   "source": [
    "len(db_stock1)"
   ]
  },
  {
   "cell_type": "code",
   "execution_count": 57,
   "id": "fdcd8ceb",
   "metadata": {},
   "outputs": [
    {
     "data": {
      "text/plain": [
       "[<matplotlib.lines.Line2D at 0x27b53e86460>]"
      ]
     },
     "execution_count": 57,
     "metadata": {},
     "output_type": "execute_result"
    },
    {
     "data": {
      "image/png": "[encoded data removed]",
      "text/plain": [
       "<Figure size 432x288 with 1 Axes>"
      ]
     },
     "metadata": {
      "needs_background": "light"
     },
     "output_type": "display_data"
    }
   ],
   "source": [
    "plt.plot(day_new, scaler.inverse_transform(db_stock1[1935:]))\n",
    "plt.plot(day_pred, scaler.inverse_transform(final_output))"
   ]
  },
  {
   "cell_type": "code",
   "execution_count": null,
   "id": "1afdba9f",
   "metadata": {},
   "outputs": [],
   "source": []
  }
 ],
 "metadata": {
  "kernelspec": {
   "display_name": "Python 3",
   "language": "python",
   "name": "python3"
  },
  "language_info": {
   "codemirror_mode": {
    "name": "ipython",
    "version": 3
   },
   "file_extension": ".py",
   "mimetype": "text/x-python",
   "name": "python",
   "nbconvert_exporter": "python",
   "pygments_lexer": "ipython3",
   "version": "3.8.8"
  }
 },
 "nbformat": 4,
 "nbformat_minor": 5
}
